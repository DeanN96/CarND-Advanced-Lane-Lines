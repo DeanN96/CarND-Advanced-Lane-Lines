{
 "cells": [
  {
   "cell_type": "code",
   "execution_count": 1,
   "metadata": {},
   "outputs": [],
   "source": [
    "# Get imports\n",
    "import numpy as np\n",
    "import cv2\n",
    "import glob\n",
    "import matplotlib.pyplot as plt\n",
    "import matplotlib.image as mpimg\n",
    "%matplotlib qt"
   ]
  },
  {
   "cell_type": "code",
   "execution_count": 2,
   "metadata": {},
   "outputs": [],
   "source": [
    "# import helper functions\n",
    "import camera_calibrator\n",
    "import binary_gradient\n",
    "import perspective_transform\n",
    "import measure_curvature\n",
    "import original_perspective"
   ]
  },
  {
   "cell_type": "code",
   "execution_count": 3,
   "metadata": {},
   "outputs": [],
   "source": [
    "test4 = ('./test_images/test4.jpg')"
   ]
  },
  {
   "cell_type": "code",
   "execution_count": 4,
   "metadata": {},
   "outputs": [],
   "source": [
    "def pipeline(image):\n",
    "    \n",
    "    # Directory of images for calibration \n",
    "    image_directory = glob.glob('camera_cal/calibration*.jpg')\n",
    "      \n",
    "    # Get matrix from calibration\n",
    "    mtx, dist = camera_calibrator.calibration(image_directory)\n",
    "    \n",
    "    # Undistored image \n",
    "    undistored_image = cv2.undistort(image, mtx, dist, None, mtx)\n",
    "    \n",
    "    # set thresholds for edge detection \n",
    "    sobel_threshold = (170, 255)\n",
    "    sobelx_threshold = (20, 100)\n",
    "    \n",
    "    # Binary Image \n",
    "    color_binary, binary_image = binary_gradient.binary_image(undistored_image, sobel_threshold, sobelx_threshold)\n",
    "    \n",
    "    # set top and bottom margins\n",
    "    top_margin = 94\n",
    "    bottom_margin = 451\n",
    "    \n",
    "    # Perspective Transform\n",
    "    perspective_transformed_image = perspective_transform.get_transformed_perspective(binary_image, top_margin, bottom_margin)\n",
    "    \n",
    "    # set margins, sliding windows, pixels to recenter window\n",
    "    margin = 99\n",
    "    nwindows = 9\n",
    "    minpixels = 50\n",
    "\n",
    "    # convert back to original image space \n",
    "    color_warp = measure_curvature.get_colored_area(perspective_transformed_image, margin, nwindows, minpixels)\n",
    "    warp_image = original_perspective.get_original_perspective(color_warp, top_margin, bottom_margin)\n",
    "\n",
    "    result = cv2.addWeighted(image, 1, warp_image, 0.3, 0)\n",
    "    \n",
    "    return result"
   ]
  },
  {
   "cell_type": "code",
   "execution_count": 6,
   "metadata": {},
   "outputs": [],
   "source": [
    "# Import everything needed to edit/save/watch video clips\n",
    "# from moviepy.editor import VideoFileClip\n",
    "# from IPython.display import HTML"
   ]
  },
  {
   "cell_type": "code",
   "execution_count": 7,
   "metadata": {},
   "outputs": [],
   "source": [
    "#clip1 = VideoFileClip('project_video.mp4')\n",
    "#clip = clip1.fl_image(pipeline)\n",
    "#%time clip.write_videofile('project_video_processed_copy.mp4', audio=False)"
   ]
  }
 ],
 "metadata": {
  "kernelspec": {
   "display_name": "Python 3",
   "language": "python",
   "name": "python3"
  },
  "language_info": {
   "codemirror_mode": {
    "name": "ipython",
    "version": 3
   },
   "file_extension": ".py",
   "mimetype": "text/x-python",
   "name": "python",
   "nbconvert_exporter": "python",
   "pygments_lexer": "ipython3",
   "version": "3.6.3"
  }
 },
 "nbformat": 4,
 "nbformat_minor": 2
}
