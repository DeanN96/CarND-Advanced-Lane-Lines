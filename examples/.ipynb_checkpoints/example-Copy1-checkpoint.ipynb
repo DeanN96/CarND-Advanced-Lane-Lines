{
 "cells": [
  {
   "cell_type": "markdown",
   "metadata": {},
   "source": [
    "## Advanced Lane Finding Project\n",
    "\n",
    "The goals / steps of this project are the following:\n",
    "\n",
    "* Compute the camera calibration matrix and distortion coefficients given a set of chessboard images.\n",
    "* Apply a distortion correction to raw images.\n",
    "* Use color transforms, gradients, etc., to create a thresholded binary image.\n",
    "* Apply a perspective transform to rectify binary image (\"birds-eye view\").\n",
    "* Detect lane pixels and fit to find the lane boundary.\n",
    "* Determine the curvature of the lane and vehicle position with respect to center.\n",
    "* Warp the detected lane boundaries back onto the original image.\n",
    "* Output visual display of the lane boundaries and numerical estimation of lane curvature and vehicle position.\n",
    "\n",
    "---\n",
    "## First, I'll compute the camera calibration using chessboard images"
   ]
  },
  {
   "cell_type": "code",
   "execution_count": 3,
   "metadata": {
    "collapsed": true
   },
   "outputs": [],
   "source": [
    "# Get imports\n",
    "import pickle\n",
    "import numpy as np\n",
    "import cv2\n",
    "import glob\n",
    "import matplotlib.pyplot as plt\n",
    "import matplotlib.image as mpimg\n",
    "%matplotlib qt"
   ]
  },
  {
   "cell_type": "markdown",
   "metadata": {},
   "source": [
    "## And so on and so forth..."
   ]
  },
  {
   "cell_type": "code",
   "execution_count": null,
   "metadata": {
    "collapsed": true
   },
   "outputs": [],
   "source": [
    "# import helper functions\n",
    "import camera_calibrator\n",
    "import lane_smoothing\n",
    "import binary_gradient\n",
    "import perspective_transform\n",
    "import measure_curvature\n",
    "import original_perspective\n",
    "import warp_lines"
   ]
  },
  {
   "cell_type": "code",
   "execution_count": null,
   "metadata": {},
   "outputs": [],
   "source": [
    "# Files to undistort\n",
    "calibration1 = ('./camera_cal/calibration1.jpg')\n",
    "straight_lines1 = ('./test_images/straight_lines1.jpg')\n",
    "straight_lines2 = ('./test_images/straight_lines2.jpg')\n",
    "test1 = ('./test_images/test1.jpg')\n",
    "test2 = ('./test_images/test2.jpg')\n",
    "test3 = ('./test_images/test3.jpg')\n",
    "test4 = ('./test_images/test4.jpg')\n",
    "test5 = ('./test_images/test5.jpg')\n",
    "test6 = ('./test_images/test6.jpg')"
   ]
  },
  {
   "cell_type": "code",
   "execution_count": null,
   "metadata": {},
   "outputs": [],
   "source": [
    "def pipeline(image):\n",
    "    \n",
    "    # Directory of images for calibration \n",
    "    image_directory = glob.glob('camera_cal/calibration*.jpg')\n",
    "      \n",
    "    # Get matrix from calibration\n",
    "    mtx, dist = camera_calibrator.calibration(image_directory)\n",
    "    \n",
    "    # smooth the lanes \n",
    "    smoothened_image = lane_smoothing.apply_clahe(image)\n",
    "    \n",
    "    # Undistored image \n",
    "    undistored_image = cv2.undistort(smoothened_image, mtx, dist, None, mtx)\n",
    "    \n",
    "    # set thresholds for edge detection \n",
    "    sobel_threshold = (170, 255)\n",
    "    sobelx_threshold = (20, 100)\n",
    "    \n",
    "    # Binary Image \n",
    "    color_binary, binary_image = binary_gradient.binary_image(undistored_image, sobel_threshold, sobelx_threshold)\n",
    "    \n",
    "    # set top and bottom margins\n",
    "    top_margin = 93\n",
    "    bottom_margin = 450\n",
    "    \n",
    "    # Perspective Transform\n",
    "    perspective_transformed_image = perspective_transform.get_transformed_perspective(binary_image, top_margin, bottom_margin)\n",
    "    \n",
    "    # set margins, sliding windows, pixels to recenter window\n",
    "    margin = 100\n",
    "    nwindows = 9\n",
    "    minpixels = 50\n",
    "\n",
    "    # convert back to original image space \n",
    "    color_warp = measure_curvature.get_colored_area(perspective_transformed_image, margin, nwindows, minpixels)\n",
    "    warp_image = original_perspective.get_original_perspective(color_warp, top_margin, bottom_margin)\n",
    "\n",
    "    result = cv2.addWeighted(smoothened_image, 1, warp_image, 0.3, 0)\n",
    "    \n",
    "    return result"
   ]
  },
  {
   "cell_type": "code",
   "execution_count": null,
   "metadata": {},
   "outputs": [],
   "source": [
    "img = lambda fname: mpimg.imread(fname)\n",
    "result = pipeline(img(test4))\n",
    "plt.imshow(result)"
   ]
  }
 ],
 "metadata": {
  "anaconda-cloud": {},
  "kernelspec": {
   "display_name": "Python [conda root]",
   "language": "python",
   "name": "conda-root-py"
  },
  "language_info": {
   "codemirror_mode": {
    "name": "ipython",
    "version": 3
   },
   "file_extension": ".py",
   "mimetype": "text/x-python",
   "name": "python",
   "nbconvert_exporter": "python",
   "pygments_lexer": "ipython3",
   "version": "3.5.2"
  }
 },
 "nbformat": 4,
 "nbformat_minor": 1
}
